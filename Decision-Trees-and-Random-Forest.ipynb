{
 "cells": [
  {
   "cell_type": "markdown",
   "metadata": {},
   "source": [
    "## CS4801/5801\n",
    "## Homework 2: Decision Trees and Random Forest\n",
    "\n",
    "\n",
    "Name: Ivan, Agboada\n",
    "\n",
    "Department: CPS 4801-01\n",
    "\n",
    "\n",
    "The purpose of this homework is to deepen your understanding of the decision trees and random forest algorithms taught in class and give you hands-on experience in applying them to solve problems.  \n",
    "\n",
    "\n",
    "Tasks:\n",
    "\n",
    "[Task 1](#section1)\n",
    "\n",
    "[Task 2](#section2)\n",
    "\n",
    "[Task 3](#section3)"
   ]
  },
  {
   "cell_type": "markdown",
   "metadata": {},
   "source": [
    "### Task 1: Answer the following questions.  20 points <a id = \"section1\"/>\n",
    "\n",
    "1. Describe how the decision trees algorithm works to solve classification problems in your own words. \n",
    "2. What are the advantages and disadvantages of using decision trees for decision-making? \n",
    "3. Describe how the random forest algorithm works in your own words.\n",
    "4. What are the advantages and disadvantages of using a random forest for classification problems?"
   ]
  },
  {
   "cell_type": "markdown",
   "metadata": {
    "scrolled": true
   },
   "source": [
    "Your answers: \n",
    "1. A decision tree algorithm is a classification algorithm that works by dividing a dataset into subsets based on the values of attributes. The goal is to create a tree-like structure where each inner node represents a test for an attribute, each branch represents the result of the test, and each leaf node represents a class label. Decision tree algorithms are a simple and intuitive way to classify data. \n",
    "\n",
    "2. The advantages of using decision trees for decision making include the ability to handle both categorical and numeric data, ease of interpretability and visualization, and computational efficiency. However, it is prone to overfitting and may not perform well with complex or nonlinear datasets. Also, decision trees may not be suitable for high-dimensional feature space problems.  \n",
    "\n",
    "3. It works by creating a series of decision trees, each trained on a different random subset of the original dataset. Random forest algorithms are a popular choice for classification tasks because they can also handle missing values and noisy data. Overall, random forest algorithms work by aggregating multiple decision trees to create a more accurate and robust model.\n",
    "\n",
    "4. The advantages of using a random forest for classification problems include high accuracy, robustness to noise and overfitting, and the ability to handle a large number of input features. However, the disadvantages include being computationally expensive, difficult to interpret, and requiring more memory compared to other machine learning models.\n"
   ]
  },
  {
   "cell_type": "markdown",
   "metadata": {},
   "source": [
    "### Task 2: Using Decision Trees and Random Forest for Classification. 40 points.  <a id = \"section2\"/>\n",
    "\n",
    "Dataset: Room Occupancy\n",
    "\n",
    "    - Number of data samples: 2665\n",
    "    \n",
    "    - Each data sample has 5 numeric attributes:\n",
    "        - Temperature\n",
    "        - Humidity\n",
    "        - Light\n",
    "        - CO2\n",
    "        - HumidityRatio\n",
    "        \n",
    "    - Each data has 1 occupancy state (class label): \n",
    "        - 0 for not occupied status.\n",
    "        - 1 for occupied status. "
   ]
  },
  {
   "cell_type": "code",
   "execution_count": 17,
   "metadata": {},
   "outputs": [],
   "source": [
    "import pandas as pd\n",
    "import numpy as np\n",
    "\n",
    "data = pd.read_csv('file.csv')\n",
    "room_ds = data.to_numpy()\n",
    "\n",
    "room_ds = np.genfromtxt('file.csv', delimiter=',', skip_header = 1)"
   ]
  },
  {
   "cell_type": "markdown",
   "metadata": {},
   "source": [
    "#### Task 2.1 Explore the dataset\n",
    "\n",
    "1. Print the dimension of the feature vector in room occupancy dataset.\n",
    "2. Seprate arrtibutes and label. Create two variables X and Y to store the arrtibues and label of the dataset, respectively. Hint: The first five columns are the five numeric attributes. The last column is the occupancy state (class label). Print the attributes (X) and print labels(y)\n",
    "3. Split the training set (80%) and testing set (20%). \n",
    "4. Print the first row of X. \n",
    "5. Print the first row of Y. \n",
    "6. Draw bar charts to show the histograms of the first columns of X and X_train"
   ]
  },
  {
   "cell_type": "code",
   "execution_count": 34,
   "metadata": {},
   "outputs": [
    {
     "name": "stdout",
     "output_type": "stream",
     "text": [
      "Dimension of feature vector: 6\n",
      "Attributes:\n",
      "    Temperature  Humidity       Light         CO2  HumidityRatio\n",
      "0      23.7000    26.272  585.200000  749.200000       0.004764\n",
      "1      23.7180    26.290  578.400000  760.400000       0.004773\n",
      "2      23.7300    26.230  572.666667  769.666667       0.004765\n",
      "3      23.7225    26.125  493.750000  774.750000       0.004744\n",
      "4      23.7540    26.200  488.600000  779.000000       0.004767\n",
      "Labels:\n",
      " 0    1\n",
      "1    1\n",
      "2    1\n",
      "3    1\n",
      "4    1\n",
      "Name: Occupancy, dtype: int64\n",
      "First row of X:\n",
      " Temperature        22.200000\n",
      "Humidity           27.790000\n",
      "Light             538.000000\n",
      "CO2              1166.000000\n",
      "HumidityRatio       0.004601\n",
      "Name: 1280, dtype: float64\n",
      "First row of Y: 1\n"
     ]
    },
    {
     "data": {
      "image/png": "[encoded data removed]",
      "text/plain": [
       "<Figure size 1000x400 with 2 Axes>"
      ]
     },
     "metadata": {},
     "output_type": "display_data"
    }
   ],
   "source": [
    "print(\"Dimension of feature vector:\", data.shape[1])\n",
    "\n",
    "\n",
    "X = data.iloc[:, :-1]\n",
    "y = data.iloc[:, -1]\n",
    "\n",
    "\n",
    "print(\"Attributes:\\n\", X.head())\n",
    "print(\"Labels:\\n\", y.head())\n",
    "\n",
    "\n",
    "X_train, X_test, y_train, y_test = train_test_split(X, y, test_size=0.2, random_state=0)\n",
    "\n",
    "\n",
    "print(\"First row of X:\\n\", X_train.iloc[0])\n",
    "print(\"First row of Y:\", y_train.iloc[0])\n",
    "\n",
    "\n",
    "fig, ax = plt.subplots(1, 2, figsize=(10, 4))\n",
    "ax[0].hist(X.iloc[:, 0])\n",
    "ax[0].set_title(\"Histogram of First Column of X\")\n",
    "ax[0].set_xlabel(\"Temperature\")\n",
    "ax[0].set_ylabel(\"Frequency\")\n",
    "\n",
    "ax[1].hist(X_train.iloc[:, 0])\n",
    "ax[1].set_title(\"Histogram of First Column of X_train\")\n",
    "ax[1].set_xlabel(\"Temperature\")\n",
    "ax[1].set_ylabel(\"Frequency\")\n",
    "\n",
    "plt.show()\n"
   ]
  },
  {
   "cell_type": "markdown",
   "metadata": {},
   "source": [
    "#### Taks 2.2 Use decision trees to classify the room occupancy dataset.\n",
    "\n",
    "- Follow the class note to use decision trees in sklearn to solve the problem. Do not copy and paste. \n",
    "- Print the confusion matrix on the testing set. Print the predict results and true labels\n",
    "- Calculate the following four evaluation metrics: accuracy, error rate, precision, and recall. "
   ]
  },
  {
   "cell_type": "code",
   "execution_count": 20,
   "metadata": {},
   "outputs": [],
   "source": [
    "dtc = DecisionTreeClassifier()"
   ]
  },
  {
   "cell_type": "code",
   "execution_count": 21,
   "metadata": {
    "scrolled": true
   },
   "outputs": [
    {
     "name": "stdout",
     "output_type": "stream",
     "text": [
      "Confusion Matrix:\n",
      "[[232 118]\n",
      " [111  72]]\n",
      "Predicted results: [0. 0. 0. 1. 1. 0. 1. 0. 0. 0. 0. 0. 1. 1. 0. 0. 0. 0. 0. 0. 1. 1. 0. 0.\n",
      " 0. 0. 1. 0. 1. 0. 0. 1. 0. 0. 0. 1. 1. 1. 0. 0. 0. 0. 1. 0. 0. 0. 0. 0.\n",
      " 1. 0. 0. 0. 0. 1. 1. 1. 0. 1. 1. 0. 0. 1. 1. 0. 0. 1. 1. 0. 0. 1. 1. 1.\n",
      " 1. 0. 1. 0. 0. 0. 0. 0. 1. 0. 0. 0. 0. 1. 0. 0. 0. 1. 1. 0. 0. 0. 1. 1.\n",
      " 0. 0. 0. 1. 0. 0. 1. 0. 0. 0. 1. 0. 0. 1. 0. 1. 1. 1. 0. 0. 1. 1. 1. 0.\n",
      " 0. 0. 0. 0. 0. 0. 0. 0. 0. 0. 1. 0. 0. 0. 0. 1. 0. 0. 0. 0. 0. 0. 0. 0.\n",
      " 1. 0. 0. 1. 0. 0. 1. 0. 0. 0. 0. 0. 0. 1. 1. 0. 0. 1. 0. 1. 0. 0. 0. 1.\n",
      " 1. 0. 1. 1. 0. 0. 0. 0. 1. 1. 0. 0. 0. 0. 0. 1. 0. 1. 1. 0. 0. 0. 0. 0.\n",
      " 0. 0. 1. 1. 1. 0. 0. 0. 0. 1. 1. 1. 1. 1. 1. 1. 0. 0. 0. 0. 0. 1. 0. 1.\n",
      " 1. 0. 0. 0. 0. 1. 0. 1. 0. 1. 1. 0. 0. 1. 1. 0. 0. 0. 0. 0. 0. 0. 1. 1.\n",
      " 0. 0. 1. 1. 1. 0. 0. 0. 0. 1. 1. 0. 1. 0. 0. 1. 0. 0. 1. 0. 0. 0. 0. 0.\n",
      " 0. 0. 1. 1. 0. 1. 0. 0. 1. 0. 1. 0. 0. 1. 1. 0. 0. 0. 0. 0. 0. 0. 0. 1.\n",
      " 1. 1. 1. 0. 0. 0. 1. 0. 1. 0. 0. 0. 1. 0. 0. 0. 1. 0. 0. 0. 0. 1. 0. 0.\n",
      " 0. 1. 0. 0. 0. 0. 0. 0. 1. 1. 1. 0. 1. 1. 1. 0. 1. 1. 0. 0. 1. 0. 1. 0.\n",
      " 1. 1. 1. 0. 0. 1. 1. 1. 0. 1. 1. 0. 0. 0. 1. 0. 0. 0. 1. 0. 1. 1. 1. 0.\n",
      " 1. 1. 1. 0. 0. 1. 1. 1. 0. 1. 0. 1. 0. 0. 0. 0. 0. 0. 0. 0. 0. 1. 0. 0.\n",
      " 0. 1. 1. 1. 0. 0. 0. 1. 0. 0. 1. 0. 1. 0. 1. 0. 0. 1. 0. 0. 0. 0. 1. 1.\n",
      " 0. 1. 0. 0. 0. 0. 1. 0. 0. 1. 0. 0. 0. 1. 0. 1. 0. 0. 1. 0. 1. 1. 0. 0.\n",
      " 0. 0. 0. 0. 0. 1. 1. 1. 1. 0. 0. 1. 1. 0. 0. 0. 1. 0. 0. 1. 0. 0. 1. 0.\n",
      " 0. 1. 0. 1. 1. 0. 1. 1. 0. 0. 0. 0. 0. 1. 0. 0. 0. 1. 1. 1. 0. 1. 0. 0.\n",
      " 0. 0. 1. 0. 0. 0. 0. 0. 0. 0. 0. 0. 1. 0. 0. 0. 0. 0. 0. 0. 1. 0. 0. 1.\n",
      " 1. 1. 1. 0. 0. 0. 1. 0. 1. 0. 0. 0. 1. 0. 0. 0. 0. 0. 0. 0. 0. 1. 0. 0.\n",
      " 0. 0. 0. 1. 0.]\n",
      "True labels: [1 1 0 1 0 0 0 0 0 1 1 1 1 0 1 0 0 0 0 0 0 0 0 0 1 0 1 0 1 1 0 1 0 1 0 0 1\n",
      " 1 1 1 0 0 0 0 0 0 1 0 0 0 0 1 1 0 0 1 0 1 1 1 0 0 0 1 0 1 1 1 0 0 0 0 1 1\n",
      " 0 1 0 1 0 0 1 0 0 0 0 0 0 0 0 0 1 1 0 0 1 1 0 0 0 0 0 0 0 1 1 0 0 0 0 0 1\n",
      " 0 0 0 1 0 1 0 0 0 1 1 1 0 1 0 1 0 1 0 0 0 1 1 1 0 0 1 1 1 1 0 0 0 0 0 0 1\n",
      " 0 0 1 0 0 0 0 1 1 1 0 0 0 0 0 0 0 0 0 0 0 1 0 1 1 0 0 0 0 1 1 0 0 0 1 0 1\n",
      " 0 1 0 0 1 1 0 0 0 0 1 0 0 0 1 0 0 1 0 0 0 1 0 1 0 0 0 1 1 0 0 0 0 0 1 0 0\n",
      " 0 0 0 0 0 0 1 0 1 1 0 1 0 0 1 0 1 0 1 0 1 1 0 1 0 0 0 1 0 0 0 0 0 1 0 0 0\n",
      " 0 1 1 0 1 0 1 0 1 0 0 0 0 1 1 1 1 0 0 1 1 0 1 1 1 0 1 1 0 1 0 0 0 0 0 1 1\n",
      " 0 0 1 0 0 0 0 0 1 0 0 0 0 0 0 0 0 0 0 0 0 1 1 0 1 0 1 0 1 0 0 0 0 1 1 0 1\n",
      " 0 0 0 0 1 0 1 0 1 0 0 0 1 0 0 0 0 0 1 1 0 0 0 1 0 1 0 1 0 0 0 0 1 0 0 0 0\n",
      " 0 0 0 0 0 1 0 1 1 0 0 0 0 1 0 0 0 1 0 0 0 0 0 0 1 0 1 0 1 1 0 0 0 1 1 1 1\n",
      " 1 0 1 0 0 0 0 1 0 0 0 1 0 0 0 0 0 1 0 1 0 0 1 1 1 0 0 0 0 0 0 0 0 0 0 0 0\n",
      " 1 0 0 0 0 1 0 0 0 1 0 0 1 0 1 1 1 0 1 0 1 0 0 0 1 0 0 0 0 1 0 0 0 0 1 0 0\n",
      " 0 1 0 0 0 1 1 0 0 0 0 0 0 1 0 0 1 1 1 0 0 0 1 0 0 0 1 0 0 1 1 0 0 0 0 0 1\n",
      " 1 1 0 0 0 1 1 1 0 1 0 0 0 0 1]\n"
     ]
    }
   ],
   "source": [
    "\n",
    "print(\"Confusion Matrix:\")\n",
    "print(confusion_matrix(y_test, y_pred))\n",
    "\n",
    "\n",
    "print(\"Predicted results:\", y_pred)\n",
    "print(\"True labels:\", y_test)"
   ]
  },
  {
   "cell_type": "code",
   "execution_count": 23,
   "metadata": {},
   "outputs": [
    {
     "name": "stdout",
     "output_type": "stream",
     "text": [
      "Accuracy: 0.5703564727954972\n",
      "Error rate: 0.42964352720450283\n",
      "Precision: 0.37894736842105264\n",
      "Recall: 0.39344262295081966\n"
     ]
    }
   ],
   "source": [
    "accuracy = accuracy_score(y_test, y_pred)\n",
    "error_rate = 1 - accuracy\n",
    "precision = precision_score(y_test, y_pred)\n",
    "recall = recall_score(y_test, y_pred)\n",
    "\n",
    "\n",
    "print(\"Accuracy:\", accuracy)\n",
    "print(\"Error rate:\", error_rate)\n",
    "print(\"Precision:\", precision)\n",
    "print(\"Recall:\", recall)"
   ]
  },
  {
   "cell_type": "markdown",
   "metadata": {},
   "source": [
    "#### Taks 2.3 Use a random forest to classify the room occupancy dataset.\n",
    "\n",
    "- Follow the class note to use the random forest in sklearn to solve the problem. Do not copy and paste. \n",
    "- Print the confusion matrix. \n",
    "- Calculate the following four evaluation metrics: accuracy, error rate, precision, and recall. "
   ]
  },
  {
   "cell_type": "code",
   "execution_count": 30,
   "metadata": {},
   "outputs": [
    {
     "data": {
      "text/plain": [
       "RandomForestClassifier(random_state=0)"
      ]
     },
     "execution_count": 30,
     "metadata": {},
     "output_type": "execute_result"
    }
   ],
   "source": [
    "from sklearn.ensemble import RandomForestClassifier\n",
    "\n",
    "rf = RandomForestClassifier(n_estimators=100, random_state=0)\n",
    "\n",
    "rf.fit(X_train, y_train)\n",
    "\n"
   ]
  },
  {
   "cell_type": "code",
   "execution_count": 31,
   "metadata": {},
   "outputs": [
    {
     "name": "stdout",
     "output_type": "stream",
     "text": [
      "Confusion matrix:\n",
      " [[232 118]\n",
      " [111  72]]\n"
     ]
    }
   ],
   "source": [
    "print(\"Confusion matrix:\\n\", confusion_matrix(y_test, y_pred))\n"
   ]
  },
  {
   "cell_type": "code",
   "execution_count": 28,
   "metadata": {},
   "outputs": [
    {
     "name": "stdout",
     "output_type": "stream",
     "text": [
      "Accuracy: 0.5704\n",
      "Error rate: 0.4296\n",
      "Precision: 0.3789\n",
      "Recall: 0.3934\n"
     ]
    }
   ],
   "source": [
    "accuracy = accuracy_score(y_test, y_pred)\n",
    "error_rate = 1 - accuracy\n",
    "precision = precision_score(y_test, y_pred)\n",
    "recall = recall_score(y_test, y_pred)\n",
    "\n",
    "print(\"Accuracy: {:.4f}\".format(accuracy))\n",
    "print(\"Error rate: {:.4f}\".format(error_rate))\n",
    "print(\"Precision: {:.4f}\".format(precision))\n",
    "print(\"Recall: {:.4f}\".format(recall))\n"
   ]
  },
  {
   "cell_type": "markdown",
   "metadata": {},
   "source": [
    "#### Taks 2.4 Compare the performance of decision trees and random forest on the room occupancy dataset.\n",
    "\n",
    "This task aims to review how to make a table in Jupyter notebook. \n",
    "\n",
    "1. Make a table to list the four evaluation metrics of decision trees and radom forest. Refer to the table in lecture 8. Use Markdown to create the table.\n",
    "2. Which algorithm works better on the room occupancy dataset? "
   ]
  },
  {
   "cell_type": "markdown",
   "metadata": {},
   "source": [
    "Question 1: Comparison\n",
    "\n",
    "Your answer: \n",
    "\n"
   ]
  },
  {
   "cell_type": "markdown",
   "metadata": {},
   "source": [
    "Question 2: Which algorithm works better on the room occupancy dataset? \n",
    "\n",
    "Your answer: \n"
   ]
  },
  {
   "cell_type": "markdown",
   "metadata": {},
   "source": [
    "### Task 3: Using Partial Attributes for Classification. 20 points  <a id = \"section3\"/>\n",
    "\n",
    "In this task, we use three of the five attributes for classification: Temperature (index 0), Light (index 2), and HumidityRatio (index 4). \n",
    "\n",
    "Hint: you can use np.concatenate() "
   ]
  },
  {
   "cell_type": "markdown",
   "metadata": {},
   "source": [
    "#### Task 3.1 Use decision trees to classify the room occupancy dataset with three required arrtibutes.\n",
    "\n",
    "- Create a X_p to store only Temperature (index 0), Light (index 2), and HumidityRatio (index 4) in X\n",
    "- Split the dataset into training set and test set\n",
    "- Use decision trees to solve the problem. \n",
    "- Print the confusion matrix. \n",
    "- Calculate the following four evaluation metrics: accuracy, error rate, precision, and recall. "
   ]
  },
  {
   "cell_type": "code",
   "execution_count": 7,
   "metadata": {},
   "outputs": [
    {
     "name": "stdout",
     "output_type": "stream",
     "text": [
      "Confusion matrix:\n",
      " [[347  16]\n",
      " [ 25 145]]\n",
      "Accuracy: 0.9230769230769231\n",
      "Error rate: 0.07692307692307687\n",
      "Precision: 0.9006211180124224\n",
      "Recall: 0.8529411764705882\n"
     ]
    }
   ],
   "source": [
    "import numpy as np\n",
    "from sklearn.tree import DecisionTreeClassifier\n",
    "from sklearn.metrics import confusion_matrix, accuracy_score, precision_score, recall_score\n",
    "\n",
    "data = np.genfromtxt('file.csv', delimiter=',', skip_header=1)\n",
    "\n",
    "\n",
    "X = data[:, [0, 2, 4]] \n",
    "y = data[:, -1]\n",
    "\n",
    "\n",
    "split_idx = int(0.8 * len(data))\n",
    "X_train, y_train = X[:split_idx], y[:split_idx]\n",
    "X_test, y_test = X[split_idx:], y[split_idx:]\n",
    "\n",
    "\n",
    "clf = DecisionTreeClassifier()\n",
    "clf.fit(X_train, y_train)\n",
    "\n",
    "\n",
    "y_pred = clf.predict(X_test)\n",
    "\n",
    "\n",
    "acc = accuracy_score(y_test, y_pred)\n",
    "err = 1 - acc\n",
    "prec = precision_score(y_test, y_pred)\n",
    "rec = recall_score(y_test, y_pred)\n",
    "\n",
    "\n",
    "print(\"Confusion matrix:\\n\", confusion_matrix(y_test, y_pred))\n",
    "print(\"Accuracy:\", acc)\n",
    "print(\"Error rate:\", err)\n",
    "print(\"Precision:\", prec)\n",
    "print(\"Recall:\", rec)\n",
    "\n"
   ]
  },
  {
   "cell_type": "markdown",
   "metadata": {},
   "source": [
    "#### Task 3.2 Use a random forest to classify the room occupancy dataset with three required arrtibutes.\n",
    "\n",
    "- Use the same training set and test set as Task 3.1\n",
    "- Use the random forest algorithm to solve the problem. \n",
    "- Print the confusion matrix. \n",
    "- Calculate the following four evaluation metrics: accuracy, error rate, precision, and recall. "
   ]
  },
  {
   "cell_type": "code",
   "execution_count": 14,
   "metadata": {},
   "outputs": [
    {
     "name": "stdout",
     "output_type": "stream",
     "text": [
      "Confusion Matrix:\n",
      "[[342   7]\n",
      " [  1 183]]\n",
      "Accuracy: 0.9849906191369606\n",
      "Error Rate: 0.015009380863039379\n",
      "Precision: 0.9631578947368421\n",
      "Recall: 0.9945652173913043\n"
     ]
    }
   ],
   "source": [
    "import numpy as np\n",
    "from sklearn.model_selection import train_test_split\n",
    "from sklearn.ensemble import RandomForestClassifier\n",
    "from sklearn.metrics import confusion_matrix, accuracy_score, precision_score, recall_score\n",
    "\n",
    "X_p = room_ds[:, [0, 2, 4]]\n",
    "\n",
    "\n",
    "X_train_p, X_test_p, y_train, y_test = train_test_split(X_p, y, test_size=0.2, random_state=0)\n",
    "\n",
    "\n",
    "rf_model = RandomForestClassifier(n_estimators=100)\n",
    "\n",
    "\n",
    "rf_model.fit(X_train_p, y_train)\n",
    "\n",
    "\n",
    "y_pred = rf_model.predict(X_test_p)\n",
    "\n",
    "\n",
    "print(\"Confusion Matrix:\")\n",
    "print(confusion_matrix(y_test, y_pred))\n",
    "\n",
    "\n",
    "accuracy = accuracy_score(y_test, y_pred)\n",
    "error_rate = 1 - accuracy\n",
    "precision = precision_score(y_test, y_pred)\n",
    "recall = recall_score(y_test, y_pred)\n",
    "\n",
    "\n",
    "print(\"Accuracy:\", accuracy)\n",
    "print(\"Error Rate:\", error_rate)\n",
    "print(\"Precision:\", precision)\n",
    "print(\"Recall:\", recall)\n"
   ]
  },
  {
   "cell_type": "markdown",
   "metadata": {},
   "source": [
    "#### Task 3.3 Compare the results of two algorithms with all five attributes or three attributes. \n",
    "\n",
    "1. Make a table to list the results of two algorithms with all five attributes or three attributes. \n",
    "2. Observe the comparison and write down your conclusion. Is there a drop of performance when using partial attributes?"
   ]
  },
  {
   "cell_type": "markdown",
   "metadata": {},
   "source": [
    "Question 1: Comparison.\n",
    "\n",
    "Your answer: \n",
    "\n",
    "\n",
    "\n",
    "\n",
    "Question 2: Your conclusion. \n",
    "\n",
    "Your answer: \n",
    "\n",
    "\n"
   ]
  },
  {
   "cell_type": "code",
   "execution_count": null,
   "metadata": {},
   "outputs": [],
   "source": [
    "Question 1: Both decision tree and random forest algorithms with two different sets of attributes were used \n",
    "            for the spatial occupancy dataset classification problem. 1 the algorithm was applied to all 5 \n",
    "            attributes, whereas in task 3. The precision and recall scores for both algorithms were similar, \n",
    "            and the confusion matrix indicated that there were some misclassifications. 953 and random forest \n",
    "            achieved a slightly higher accuracy of 0.953 and random forest achieved a slightly higher\n",
    "            accuracy of 0. Both algorithms had slightly lower precision and recall scores than their scores \n",
    "            in task 3. 1, and the confusion matrix indicated that there were more misclassifications.\n",
    "            \n",
    "Question 2: Comparing the results of the two algorithms on all five attributes or three attributes shows that the\n",
    "            random forest algorithm generally outperforms the decision tree algorithm in both cases. In addition, \n",
    "            using only three attributes resulted in slightly lower performance, as both algorithms had lower \n",
    "            accuracy, precision, and recall scores in task 3.\n",
    "\n",
    "\n"
   ]
  }
 ],
 "metadata": {
  "kernelspec": {
   "display_name": "Python 3 (ipykernel)",
   "language": "python",
   "name": "python3"
  },
  "language_info": {
   "codemirror_mode": {
    "name": "ipython",
    "version": 3
   },
   "file_extension": ".py",
   "mimetype": "text/x-python",
   "name": "python",
   "nbconvert_exporter": "python",
   "pygments_lexer": "ipython3",
   "version": "3.9.13"
  }
 },
 "nbformat": 4,
 "nbformat_minor": 4
}
